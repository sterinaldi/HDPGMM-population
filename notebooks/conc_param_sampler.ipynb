{
 "cells": [
  {
   "cell_type": "markdown",
   "id": "6eb79076",
   "metadata": {},
   "source": [
    "This notebook tests the MH algorithm used to update the concentration parameter $\\alpha$"
   ]
  },
  {
   "cell_type": "code",
   "execution_count": 28,
   "id": "15b17bed",
   "metadata": {},
   "outputs": [],
   "source": [
    "import numpy as np\n",
    "import matplotlib.pyplot as plt\n",
    "from matplotlib.pyplot import rcParams\n",
    "from scipy.special import gammaln\n",
    "\n",
    "rcParams[\"text.usetex\"] = True\n",
    "rcParams[\"xtick.labelsize\"]=14\n",
    "rcParams[\"ytick.labelsize\"]=14\n",
    "rcParams[\"xtick.direction\"]=\"in\"\n",
    "rcParams[\"ytick.direction\"]=\"in\"\n",
    "rcParams[\"legend.fontsize\"]=15\n",
    "rcParams[\"legend.frameon\"]=False\n",
    "rcParams[\"axes.labelsize\"]=16\n",
    "rcParams[\"axes.grid\"] = True\n",
    "rcParams[\"grid.alpha\"] = 0.6"
   ]
  },
  {
   "cell_type": "code",
   "execution_count": 5,
   "id": "5cc1aec2",
   "metadata": {},
   "outputs": [],
   "source": [
    "def MH_alpha(N_draws, n_samples, n_clusters, a0 = 1):\n",
    "    alpha = []\n",
    "    a_old = a0\n",
    "    for _ in range(N_draws):\n",
    "        a_new = a_old + np.random.uniform(-1,1)*0.5\n",
    "        if a_new > 0:\n",
    "            logP_old = gammaln(a_old) - gammaln(a_old + n_samples) + n_clusters * np.log(a_old) - 1./a_old\n",
    "            logP_new = gammaln(a_new) - gammaln(a_new + n_samples) + n_clusters * np.log(a_new) - 1./a_new\n",
    "            if logP_new - logP_old > np.log(np.random.uniform()):\n",
    "                a_old = a_new\n",
    "        alpha.append(a_old)\n",
    "    return np.array(alpha)\n",
    "\n",
    "def autocorrelation(x):\n",
    "    taumax = len(x)//2\n",
    "    ac = np.zeros(taumax)\n",
    "    mean = np.mean(x)\n",
    "    s2   = np.mean((x-mean)**2)\n",
    "    \n",
    "    for tau in range(taumax):\n",
    "        ac[tau] = np.mean([(x[i]-mean)*(x[(tau+i)%len(x)]-mean) for i in range(len(x))])/s2\n",
    "    return ac"
   ]
  },
  {
   "cell_type": "markdown",
   "id": "cec80c84",
   "metadata": {},
   "source": [
    "In this example we will assume to have $n=1000$ samples in $K=8$ different clusters, drawing $N=1000$ values for $\\alpha$."
   ]
  },
  {
   "cell_type": "code",
   "execution_count": 11,
   "id": "a9b05662",
   "metadata": {},
   "outputs": [],
   "source": [
    "n = 1000\n",
    "K = 8\n",
    "N = 1000"
   ]
  },
  {
   "cell_type": "code",
   "execution_count": 31,
   "id": "573467f8",
   "metadata": {},
   "outputs": [
    {
     "data": {
      "text/plain": [
       "Text(0.5, 0, '$\\\\alpha$')"
      ]
     },
     "execution_count": 31,
     "metadata": {},
     "output_type": "execute_result"
    },
    {
     "data": {
      "image/png": "[encoded data removed]",
      "text/plain": [
       "<Figure size 432x288 with 1 Axes>"
      ]
     },
     "metadata": {
      "needs_background": "light"
     },
     "output_type": "display_data"
    }
   ],
   "source": [
    "alpha = MH_alpha(N, n, 8)\n",
    "fig_alpha, ax_alpha = plt.subplots()\n",
    "ax_alpha.hist(alpha, bins = int(np.sqrt(len(alpha))), density = True)\n",
    "ax_alpha.set_xlabel('$\\\\alpha$')"
   ]
  },
  {
   "cell_type": "code",
   "execution_count": 32,
   "id": "6b380cab",
   "metadata": {},
   "outputs": [
    {
     "data": {
      "text/plain": [
       "Text(0, 0.5, '$C(\\\\tau)$')"
      ]
     },
     "execution_count": 32,
     "metadata": {},
     "output_type": "execute_result"
    },
    {
     "data": {
      "image/png": "[encoded data removed]",
      "text/plain": [
       "<Figure size 432x288 with 1 Axes>"
      ]
     },
     "metadata": {
      "needs_background": "light"
     },
     "output_type": "display_data"
    }
   ],
   "source": [
    "ac = autocorrelation(alpha)\n",
    "fig_ac, ax_ac = plt.subplots()\n",
    "ax_ac.plot(ac, ls = '--', marker = '', lw = 0.5)\n",
    "ax_ac.set_xlabel('$\\\\tau$')\n",
    "ax_ac.set_ylabel('$C(\\\\tau)$')"
   ]
  }
 ],
 "metadata": {
  "kernelspec": {
   "display_name": "Python 3",
   "language": "python",
   "name": "python3"
  },
  "language_info": {
   "codemirror_mode": {
    "name": "ipython",
    "version": 3
   },
   "file_extension": ".py",
   "mimetype": "text/x-python",
   "name": "python",
   "nbconvert_exporter": "python",
   "pygments_lexer": "ipython3",
   "version": "3.7.6"
  }
 },
 "nbformat": 4,
 "nbformat_minor": 5
}
