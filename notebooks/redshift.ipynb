{
 "cells": [
  {
   "cell_type": "code",
   "execution_count": null,
   "id": "292e74f3",
   "metadata": {},
   "outputs": [],
   "source": [
    "import numpy as np\n",
    "import matplotlib.pyplot as plt\n",
    "from hdpgmm.preprocessing import RedshiftCalculation, LumDist\n",
    "from astropy.cosmology import FlatLambdaCDM, z_at_value\n",
    "import astropy.units as u"
   ]
  },
  {
   "cell_type": "markdown",
   "id": "86f7e4ff",
   "metadata": {},
   "source": [
    "Here we test the method `RedshiftCalculation` from the `hdpgmm.preprocessing` module using `astropy.cosmology`'s method `z_at_value` as reference. We will use the default cosmological parameters from [Planck et al (2021)](https://www.aanda.org/articles/aa/pdf/2020/09/aa33910-18.pdf) for a spatially flat $\\Lambda$CDM cosmology - $H_0 = 67.4$ km s$^{-1}$Mpc$^{-1}$, $\\Omega_m = 0.315$."
   ]
  },
  {
   "cell_type": "code",
   "execution_count": null,
   "id": "3224365d",
   "metadata": {},
   "outputs": [],
   "source": [
    "h = 0.674\n",
    "om = 0.315\n",
    "\n",
    "astropy_cosmo = FlatLambdaCDM(H0 = h*100, Om0 = om)\n",
    "\n",
    "LD_with_dimensions = np.linspace(0.001,4.5e3,1000)* u.Mpc\n",
    "LD_no_dimensions   = np.linspace(0.001,4.5e3,1000)\n",
    "z_astropy = np.array([z_at_value(astropy_cosmo.luminosity_distance, d) for d in LD_with_dimensions])\n",
    "z_hdpgmm  = np.array([RedshiftCalculation(d, h, om, 1-om) for d in LD_no_dimensions])"
   ]
  },
  {
   "cell_type": "code",
   "execution_count": null,
   "id": "de32a0a7",
   "metadata": {},
   "outputs": [],
   "source": [
    "fig, (ax,res) = plt.subplots(2, 1, gridspec_kw={'height_ratios': [3, 1]}, sharex = True)\n",
    "ax.plot(LD_no_dimensions, z_astropy, ls = '--', lw = 0.8, label = \"$Astropy$\")\n",
    "ax.plot(LD_no_dimensions, z_hdpgmm, ls = '-.', lw = 0.8, label = \"$RedshiftCalculation$\")\n",
    "ax.set_ylabel('$z$')\n",
    "ax.grid(True,dashes=(1,3))\n",
    "ax.legend(loc = 0, frameon= False)\n",
    "res.plot(LD_no_dimensions, z_hdpgmm-z_astropy, ls = '--', color = 'k', lw = 0.8)\n",
    "res.set_ylabel('$z_{RS} - z_{apy}$')\n",
    "res.set_xlabel('$D_L$')\n",
    "res.grid(True,dashes=(1,3))"
   ]
  },
  {
   "cell_type": "markdown",
   "id": "cb0e1490",
   "metadata": {},
   "source": [
    "For $D_L\\gtrsim 10^3$ Mpc there is an appreciable difference between the second-order approximation made in RedshiftCalculation and Astropy, so it would be good to switch to Astropy's redshift calculation."
   ]
  },
  {
   "cell_type": "code",
   "execution_count": null,
   "id": "893bed4f",
   "metadata": {},
   "outputs": [],
   "source": []
  }
 ],
 "metadata": {
  "kernelspec": {
   "display_name": "Python 3",
   "language": "python",
   "name": "python3"
  },
  "language_info": {
   "codemirror_mode": {
    "name": "ipython",
    "version": 3
   },
   "file_extension": ".py",
   "mimetype": "text/x-python",
   "name": "python",
   "nbconvert_exporter": "python",
   "pygments_lexer": "ipython3",
   "version": "3.7.6"
  }
 },
 "nbformat": 4,
 "nbformat_minor": 5
}
