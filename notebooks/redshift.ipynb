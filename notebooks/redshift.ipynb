{
 "cells": [
  {
   "cell_type": "code",
   "execution_count": 1,
   "id": "292e74f3",
   "metadata": {},
   "outputs": [],
   "source": [
    "import numpy as np\n",
    "import matplotlib.pyplot as plt\n",
    "from astropy.cosmology import LambdaCDM, z_at_value\n",
    "import astropy.units as u"
   ]
  },
  {
   "cell_type": "markdown",
   "id": "86f7e4ff",
   "metadata": {},
   "source": [
    "Here we test the method `RedshiftCalculation`, previously included in the `hdpgmm.preprocessing` module using `astropy.cosmology`'s method `z_at_value` as reference. We will use the default cosmological parameters from [Planck et al (2021)](https://www.aanda.org/articles/aa/pdf/2020/09/aa33910-18.pdf) for a spatially flat $\\Lambda$CDM cosmology - $H_0 = 67.4$ km s$^{-1}$Mpc$^{-1}$, $\\Omega_m = 0.315$."
   ]
  },
  {
   "cell_type": "code",
   "execution_count": 2,
   "id": "3224365d",
   "metadata": {},
   "outputs": [],
   "source": [
    "h = 0.674\n",
    "om = 0.315\n",
    "ol = 0.685\n",
    "\n",
    "def LumDist(z, om, ol, h):\n",
    "    return 3e3*(z + (1-om +ol)*z**2/2.)/h\n",
    "\n",
    "def dLumDist(z, om, ol, h):\n",
    "    return 3e3*(1+(1-om+ol)*z)/h\n",
    "\n",
    "def RedshiftCalculation(LD, om, ol, h, zinit=0.3, limit = 0.001):\n",
    "    '''\n",
    "    Redshift given a certain luminosity, calculated by recursion.\n",
    "    Limit is the less significative digit.\n",
    "    '''\n",
    "    LD_test = LumDist(zinit, om, ol, h)\n",
    "    if abs(LD-LD_test) < limit :\n",
    "        return zinit\n",
    "    znew = zinit - (LD_test - LD)/dLumDist(zinit,om, ol, h)\n",
    "    return RedshiftCalculation(LD, om, ol, h, zinit = znew)\n",
    "\n",
    "astropy_cosmo = LambdaCDM(H0 = h*100, Om0 = om, Ode0 = ol)\n",
    "\n",
    "LD_with_dimensions = np.linspace(0.001,4.5e3,1000)* u.Mpc\n",
    "LD_no_dimensions   = np.linspace(0.001,4.5e3,1000)"
   ]
  },
  {
   "cell_type": "code",
   "execution_count": 3,
   "id": "e5250517",
   "metadata": {},
   "outputs": [
    {
     "name": "stdout",
     "output_type": "stream",
     "text": [
      "CPU times: user 4.4 s, sys: 57.9 ms, total: 4.45 s\n",
      "Wall time: 4.5 s\n"
     ]
    }
   ],
   "source": [
    "%%time\n",
    "z_astropy = np.array([z_at_value(astropy_cosmo.luminosity_distance, d) for d in LD_with_dimensions])"
   ]
  },
  {
   "cell_type": "code",
   "execution_count": 4,
   "id": "a91ed76c",
   "metadata": {},
   "outputs": [
    {
     "name": "stdout",
     "output_type": "stream",
     "text": [
      "CPU times: user 6.52 ms, sys: 143 µs, total: 6.67 ms\n",
      "Wall time: 6.63 ms\n"
     ]
    }
   ],
   "source": [
    "%%time\n",
    "z_RC  = np.array([RedshiftCalculation(d, h, om, 1-om) for d in LD_no_dimensions])"
   ]
  },
  {
   "cell_type": "code",
   "execution_count": 6,
   "id": "de32a0a7",
   "metadata": {},
   "outputs": [
    {
     "data": {
      "image/png": "[encoded data removed]",
      "text/plain": [
       "<Figure size 432x288 with 2 Axes>"
      ]
     },
     "metadata": {
      "needs_background": "light"
     },
     "output_type": "display_data"
    }
   ],
   "source": [
    "fig, (ax,res) = plt.subplots(2, 1, gridspec_kw={'height_ratios': [3, 1]}, sharex = True)\n",
    "ax.plot(LD_no_dimensions, z_astropy, ls = '--', lw = 0.8, label = \"$Astropy$\")\n",
    "ax.plot(LD_no_dimensions, z_RC, ls = '-.', lw = 0.8, label = \"$RedshiftCalculation$\")\n",
    "ax.set_ylabel('$z$')\n",
    "ax.grid(True,dashes=(1,3))\n",
    "ax.legend(loc = 0, frameon= False)\n",
    "res.plot(LD_no_dimensions, z_RC-z_astropy, ls = '--', color = 'k', lw = 0.8)\n",
    "res.set_ylabel('$z_{RC} - z_{Apy}$')\n",
    "res.set_xlabel('$D_L$')\n",
    "res.grid(True,dashes=(1,3))"
   ]
  },
  {
   "cell_type": "markdown",
   "id": "cb0e1490",
   "metadata": {},
   "source": [
    "For $D_L\\gtrsim 10^3$ Mpc there is an appreciable difference between the second-order approximation made in RedshiftCalculation and Astropy, so it would be good to switch to Astropy's redshift calculation.\n",
    "The approximated version, however, outperforms Astropy in terms of running time."
   ]
  },
  {
   "cell_type": "code",
   "execution_count": null,
   "id": "893bed4f",
   "metadata": {},
   "outputs": [],
   "source": []
  }
 ],
 "metadata": {
  "kernelspec": {
   "display_name": "Python 3",
   "language": "python",
   "name": "python3"
  },
  "language_info": {
   "codemirror_mode": {
    "name": "ipython",
    "version": 3
   },
   "file_extension": ".py",
   "mimetype": "text/x-python",
   "name": "python",
   "nbconvert_exporter": "python",
   "pygments_lexer": "ipython3",
   "version": "3.7.6"
  }
 },
 "nbformat": 4,
 "nbformat_minor": 5
}
