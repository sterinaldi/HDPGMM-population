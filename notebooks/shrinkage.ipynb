{
 "cells": [
  {
   "cell_type": "code",
   "execution_count": null,
   "id": "7dce8fbe",
   "metadata": {},
   "outputs": [],
   "source": [
    "import numpy as np\n",
    "import os\n",
    "import matplotlib.pyplot as plt"
   ]
  },
  {
   "cell_type": "markdown",
   "id": "913efb4d",
   "metadata": {},
   "source": [
    "This notebook studies the shrinkage of the posterior distribution for a single event posterior.\n",
    "Before running this notebook, please run `bash notebooks/convergence_test/shrinkage.sh` to generate the required data. This should take ~10 h."
   ]
  },
  {
   "cell_type": "code",
   "execution_count": null,
   "id": "357c6de4",
   "metadata": {},
   "outputs": [],
   "source": [
    "folder = './convergence_test/shrinkage/reconstructed_events/rec_prob/'\n",
    "filenames = os.listdir(folder)\n",
    "\n",
    "n = []\n",
    "for file in filenames:\n",
    "    name, ext = file.split('.')\n",
    "    n.append(int(name.split('_')[-1]))\n",
    "    \n",
    "files = [os.path.join(folder, f) for f in filenames]\n",
    "posteriors = {ni: np.genfromtxt(file, names = True) for file, ni in zip(files,n)}\n",
    "\n",
    "n = np.sort(np.array(n))"
   ]
  },
  {
   "cell_type": "markdown",
   "id": "cff6f1ce",
   "metadata": {},
   "source": [
    "We express the posterior width as $\\sigma^2 = \\int E[f_i^2(x) - E[f_i(x)]^2] dx$. \n",
    "\n",
    "The expected value is computed on the draws from the DPGMM: in particular, the files `log_rec_prob_*.txt` already contain the quantity we are interested in."
   ]
  },
  {
   "cell_type": "code",
   "execution_count": null,
   "id": "b68daff1",
   "metadata": {},
   "outputs": [],
   "source": [
    "sigmas_68 = []\n",
    "sigmas_90 = []\n",
    "for ni in n:\n",
    "    p = posteriors[ni]\n",
    "    x = p['m']\n",
    "    dx = x[1]-x[0]\n",
    "    sigmas_68.append(np.sum((np.exp(p['84'])-np.exp(p['16']))*dx/2.))\n",
    "    sigmas_90.append(np.sum((np.exp(p['95'])-np.exp(p['5']))*dx/4.))"
   ]
  },
  {
   "cell_type": "code",
   "execution_count": null,
   "id": "48588cb4",
   "metadata": {},
   "outputs": [],
   "source": [
    "f, ax = plt.subplots()\n",
    "ax.plot(n, sigmas_68, marker = 's', lw = 0.5, ls = '--', label = '$1\\\\sigma$')\n",
    "ax.plot(n, sigmas_90, marker = 's', lw = 0.5, ls = '--', label = '$2\\\\sigma$')\n",
    "ax.set_yscale('log')\n",
    "ax.set_xscale('log')\n",
    "ax.set_xlabel('$n$')\n",
    "ax.set_ylabel('$\\\\sigma(n)$')\n",
    "ax.legend(loc = 0)\n",
    "ax.grid()"
   ]
  },
  {
   "cell_type": "code",
   "execution_count": null,
   "id": "44220c6a",
   "metadata": {},
   "outputs": [],
   "source": []
  }
 ],
 "metadata": {
  "kernelspec": {
   "display_name": "Python 3",
   "language": "python",
   "name": "python3"
  },
  "language_info": {
   "codemirror_mode": {
    "name": "ipython",
    "version": 3
   },
   "file_extension": ".py",
   "mimetype": "text/x-python",
   "name": "python",
   "nbconvert_exporter": "python",
   "pygments_lexer": "ipython3",
   "version": "3.7.6"
  }
 },
 "nbformat": 4,
 "nbformat_minor": 5
}
